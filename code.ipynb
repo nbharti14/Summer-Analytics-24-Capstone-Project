{
 "cells": [
  {
   "cell_type": "code",
   "execution_count": null,
   "id": "03350445-dd5d-4301-b3ce-a62fd757440c",
   "metadata": {},
   "outputs": [],
   "source": [
    "import openai\n",
    "import json\n",
    "\n",
    "# Load OpenAI API key\n",
    "openai.api_key = '47726951b1474324b60957157fd15554'\n",
    "\n",
    "# Load intents and customer data from JSON files\n",
    "def load_json_file('C:\\Users\\Neeraj Bharti\\Desktop\\project14.7/'):\n",
    "    with open('intents.json') as json_data:\n",
    "        return json.load(json_data)\n",
    "\n",
    "intents = load_json_file('intents.json')\n",
    "customer_data = load_json_file('customer_data.json')\n",
    "\n",
    "def generate_response(prompt):\n",
    "    try:\n",
    "        response = openai.Completion.create(\n",
    "            engine=\"text-davinci-003\",\n",
    "            prompt=prompt,\n",
    "            max_tokens=150\n",
    "        )\n",
    "        return response.choices[0].text.strip()\n",
    "    except Exception as e:\n",
    "        print(f\"Error generating response: {e}\")\n",
    "        return \"I'm sorry, but I'm unable to process your request at the moment. Please try again later.\"\n",
    "\n",
    "def get_personalized_prompt(user_id, message):\n",
    "    customer_info = customer_data.get(user_id, {})\n",
    "    customer_name = customer_info.get(\"name\", \"Customer\")\n",
    "    prompt = (\n",
    "        f\"You are a customer support assistant. Your goal is to provide helpful and accurate responses.\\n\\n\"\n",
    "        f\"Customer Name: {customer_name}\\n\"\n",
    "        f\"Customer Query: {message}\\n\\n\"\n",
    "        f\"Response:\"\n",
    "    )\n",
    "    return prompt\n",
    "\n",
    "def response(user_id, message):\n",
    "    prompt = get_personalized_prompt(user_id, message)\n",
    "    return generate_response(prompt)\n",
    "\n",
    "# Main loop for interacting with the chatbot\n",
    "if __name__ == \"__main__\":\n",
    "    while True:\n",
    "        user_id = input(\"Enter user ID: \")\n",
    "        input_data = input(\"You: \")\n",
    "        answer = response(user_id, input_data)\n",
    "        print(f\"Bot: {answer}\")\n"
   ]
  }
 ],
 "metadata": {
  "kernelspec": {
   "display_name": "Python 3 (ipykernel)",
   "language": "python",
   "name": "python3"
  },
  "language_info": {
   "codemirror_mode": {
    "name": "ipython",
    "version": 3
   },
   "file_extension": ".py",
   "mimetype": "text/x-python",
   "name": "python",
   "nbconvert_exporter": "python",
   "pygments_lexer": "ipython3",
   "version": "3.11.7"
  }
 },
 "nbformat": 4,
 "nbformat_minor": 5
}
